{
 "cells": [
  {
   "cell_type": "markdown",
   "id": "1e301775",
   "metadata": {},
   "source": [
    "# Projeto 1 MatMult"
   ]
  },
  {
   "cell_type": "markdown",
   "id": "ebbe9714",
   "metadata": {},
   "source": [
    "## Por: Pedro Dutra"
   ]
  },
  {
   "cell_type": "code",
   "execution_count": 7,
   "id": "a495e539",
   "metadata": {},
   "outputs": [],
   "source": [
    "import numpy as np\n",
    "from scipy.optimize import fsolve"
   ]
  },
  {
   "cell_type": "markdown",
   "id": "11a4e059",
   "metadata": {},
   "source": [
    "## Raízes "
   ]
  },
  {
   "cell_type": "markdown",
   "id": "696fa06c",
   "metadata": {},
   "source": [
    "### Para: x + y = 4π (Ao longo do eixo X // Para Y = 0)"
   ]
  },
  {
   "cell_type": "code",
   "execution_count": 42,
   "id": "e65502bd",
   "metadata": {
    "scrolled": false
   },
   "outputs": [
    {
     "name": "stdout",
     "output_type": "stream",
     "text": [
      "Keys representam às RAÍZES e Values às COORDENADAS em X\n",
      "{-9.50705: (5.544, 5.544), -4.86783: (-11.544, -11.544)}\n"
     ]
    }
   ],
   "source": [
    "dic={}\n",
    "def f(b):\n",
    "    return -6*np.sin(b/2) - 8*np.sin(3*b/4)\n",
    "\n",
    "for x0 in np.linspace(-4*np.pi, 0, 20):\n",
    "    root = fsolve(f, x0)\n",
    "    x = (4*np.pi + root)/2\n",
    "    y = (4*np.pi - root)/2\n",
    "    coord_x1=6*np.cos(x) - 8*np.cos(3*x/2)\n",
    "    coord_x2=6*np.cos(y) - 8*np.cos(3*y/2)\n",
    "    if -4*np.pi < root < 0 and 0<=x<4*np.pi and 0<=y<4*np.pi:\n",
    "        if round(float(root),5) not in dic.items():\n",
    "            dic[round(float(root),5)] = (round(float(coord_x1),5), round(float(coord_x2),5))\n",
    "print('Keys representam às RAÍZES e Values às COORDENADAS em X')\n",
    "print(dic)"
   ]
  },
  {
   "cell_type": "markdown",
   "id": "984ac364",
   "metadata": {},
   "source": [
    "### Para: x + y = 8π (Ao longo do eixo X // Para Y = 0)"
   ]
  },
  {
   "cell_type": "code",
   "execution_count": 47,
   "id": "6c936452",
   "metadata": {},
   "outputs": [
    {
     "name": "stdout",
     "output_type": "stream",
     "text": [
      "Keys representam às RAÍZES e Values às COORDENADAS em X\n",
      "{}\n"
     ]
    }
   ],
   "source": [
    "dic={}\n",
    "def f(b):\n",
    "    return -6*np.sin(b/2) + 8*np.sin(3*b/4)\n",
    "\n",
    "for x0 in np.linspace(-8*np.pi, 0, 20):\n",
    "    root = fsolve(f, x0)\n",
    "    x = (8*np.pi + root)/2\n",
    "    y = (8*np.pi - root)/2\n",
    "    coord_x1=6*np.cos(x) - 8*np.cos(3*x/2)\n",
    "    coord_x2=6*np.cos(y) - 8*np.cos(3*y/2)\n",
    "    if -8*np.pi < root < 0 and 0<=x<4*np.pi and 0<=y<4*np.pi:\n",
    "        if round(float(root),5) not in dic.items():\n",
    "            print('n')\n",
    "            dic[round(float(root),5)] = (round(float(coord_x1),5), round(float(coord_x2),5))\n",
    "print('Keys representam às RAÍZES e Values às COORDENADAS em X')\n",
    "print(dic)"
   ]
  },
  {
   "cell_type": "markdown",
   "id": "0074a586",
   "metadata": {},
   "source": [
    "### Para: x + y = 12π (Ao longo do eixo X // Para Y = 0)"
   ]
  },
  {
   "cell_type": "code",
   "execution_count": 28,
   "id": "2476e44d",
   "metadata": {},
   "outputs": [
    {
     "name": "stdout",
     "output_type": "stream",
     "text": [
      "Keys representam às RAÍZES e Values às COORDENADAS em X\n",
      "{}\n"
     ]
    }
   ],
   "source": [
    "dic={}\n",
    "def f(b):\n",
    "    return -6*np.sin(b/2) - 8*np.sin(3*b/4)\n",
    "\n",
    "for x0 in np.linspace(-4*np.pi, 0, 20):\n",
    "    root = fsolve(f, x0)\n",
    "    x = (12*np.pi + root)/2\n",
    "    y = (12*np.pi - root)/2\n",
    "    coord_x1=6*np.cos(x) - 8*np.cos(3*x/2)\n",
    "    coord_x2=6*np.cos(y) - 8*np.cos(3*y/2)\n",
    "    if -12*np.pi < root < 0 and 0<=x<4*np.pi and 0<=y<4*np.pi:\n",
    "        if round(float(root),5) not in dic.items():\n",
    "            dic[round(float(root),5)] = (round(float(coord_x1),5), round(float(coord_x2),5))\n",
    "print('Keys representam às RAÍZES e Values às COORDENADAS em X')\n",
    "print(dic)"
   ]
  },
  {
   "cell_type": "markdown",
   "id": "acb3f256",
   "metadata": {},
   "source": [
    "## Pontos em que a reta tangente é:"
   ]
  },
  {
   "cell_type": "markdown",
   "id": "5292fdd9",
   "metadata": {},
   "source": [
    "### Vertical"
   ]
  },
  {
   "cell_type": "code",
   "execution_count": 48,
   "id": "f209f4ff",
   "metadata": {},
   "outputs": [
    {
     "name": "stdout",
     "output_type": "stream",
     "text": [
      "Keys representam às RAÍZES e Values às COORDENADAS (X, Y)\n",
      "{-10.81479: (5.8866, 1.9674), -8.62267: (-11.6366, -1.43764), -3.9437: (-11.6366, 1.43764), -6.28319: (14.0, -0.0), -1.75159: (5.8866, -1.9674)}\n"
     ]
    }
   ],
   "source": [
    "dic={}\n",
    "def f(t):\n",
    "    return -6*np.sin(t) + 12*np.sin((3*t)/2)\n",
    "for x0 in np.linspace(-4*np.pi, 0, 20):\n",
    "    root = fsolve(f, x0)\n",
    "    coord_x = 6*np.cos(root) - 8*np.cos(3*root/2)\n",
    "    coord_y = 6*np.sin(root) - 8*np.sin(3*root/2)\n",
    "    if -4*np.pi < root < 0:\n",
    "        if round(float(root),5) not in dic.items():\n",
    "            dic[round(float(root),5)] = (round(float(coord_x),5), round(float(coord_y),5))\n",
    "print('Keys representam às RAÍZES e Values às COORDENADAS (X, Y)')\n",
    "print(dic)"
   ]
  },
  {
   "cell_type": "markdown",
   "id": "96bbff9c",
   "metadata": {},
   "source": [
    "### Horizontal"
   ]
  },
  {
   "cell_type": "code",
   "execution_count": 49,
   "id": "04700af9",
   "metadata": {},
   "outputs": [
    {
     "name": "stdout",
     "output_type": "stream",
     "text": [
      "Keys representam às RAÍZES e Values às COORDENADAS (X, Y)\n",
      "{-11.75294: (1.37401, -3.15331), -9.75342: (-1.89296, 8.98402), -7.45934: (0.76895, -13.3896), -5.10703: (0.76895, 13.3896), -2.81295: (-1.89296, -8.98402), -0.81343: (1.37401, 3.15331)}\n"
     ]
    },
    {
     "name": "stderr",
     "output_type": "stream",
     "text": [
      "C:\\Users\\pedro\\anaconda3\\lib\\site-packages\\scipy\\optimize\\minpack.py:175: RuntimeWarning: The iteration is not making good progress, as measured by the \n",
      "  improvement from the last ten iterations.\n",
      "  warnings.warn(msg, RuntimeWarning)\n"
     ]
    }
   ],
   "source": [
    "dic={}\n",
    "def f(t):\n",
    "    return 6*np.cos(t) - 12*np.cos((3*t)/2)\n",
    "for x0 in np.linspace(-4*np.pi, 0, 20):\n",
    "    root = fsolve(f, x0)\n",
    "    coord_x = 6*np.cos(root) - 8*np.cos(3*root/2)\n",
    "    coord_y = 6*np.sin(root) - 8*np.sin(3*root/2)\n",
    "    if -4*np.pi < root < 0:\n",
    "        if round(float(root),5) not in dic.items():\n",
    "            dic[round(float(root),5)] = (round(float(coord_x),5), round(float(coord_y),5))\n",
    "print('Keys representam às RAÍZES e Values às COORDENADAS (X, Y)')\n",
    "print(dic)"
   ]
  }
 ],
 "metadata": {
  "kernelspec": {
   "display_name": "Python 3 (ipykernel)",
   "language": "python",
   "name": "python3"
  },
  "language_info": {
   "codemirror_mode": {
    "name": "ipython",
    "version": 3
   },
   "file_extension": ".py",
   "mimetype": "text/x-python",
   "name": "python",
   "nbconvert_exporter": "python",
   "pygments_lexer": "ipython3",
   "version": "3.9.7"
  }
 },
 "nbformat": 4,
 "nbformat_minor": 5
}
